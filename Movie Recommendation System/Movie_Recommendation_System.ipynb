{
  "nbformat": 4,
  "nbformat_minor": 0,
  "metadata": {
    "colab": {
      "name": "Movie_Recommendation_System.ipynb",
      "provenance": [],
      "collapsed_sections": []
    },
    "kernelspec": {
      "name": "python3",
      "display_name": "Python 3"
    }
  },
  "cells": [
    {
      "cell_type": "markdown",
      "metadata": {
        "id": "fhV9WsLEEk42"
      },
      "source": [
        "Movie Recommendation System using Collaborative Filtering"
      ]
    },
    {
      "cell_type": "markdown",
      "metadata": {
        "id": "quvAMXFVEnRF"
      },
      "source": [
        "Tasks are as follows:\n",
        "\n",
        "1. Task 1: Importing/Installing Libraries\n",
        "2. Task 2: Importing Data\n",
        "- 2.1: Importing the Data\n",
        "- 2.2 Dropping extra columns\n",
        "- 2.3 Checking for Missing Data\n",
        "3. Task 3: EDA (Exploratory data analysis)\n",
        "- 3.1 Number of movies/users\n",
        "- 3.2 Sparsity of our data\n",
        "- 3.3 Rating Distribution\n",
        "4. Task 4: Dimensionality Reduction\n",
        "- 4.1 Filter movies with less than 3 ratings\n",
        "- 4.2 Filter users with less than 3 movies rated\n",
        "- 4.3 Remove rarely rated movies and rarely rating users\n",
        "5. Task 5: Create Training and Test Sets\n",
        "- 5.1 Selecting columns used for training\n",
        "- 5.2 Create surprise dataset\n",
        "- 5.3 Create Train-set and Prediction-set\n",
        "6. Task 6: Creating/training the model\n",
        "- 6.1 Creating the model\n",
        "- 6.2 Training the model\n",
        "7. Task 7: Predictions\n",
        "- 7.1 Predict ratings for all pairs (user, items) that are not in the training set.\n",
        "- 7.2 Recommending top 3 movies based on predictions\n",
        "\n",
        "Coursera resource: [Recommender System](https://www.coursera.org/learn/movie-recommendation-system-using-collaborative-filtering/home/welcome)"
      ]
    },
    {
      "cell_type": "markdown",
      "metadata": {
        "id": "9_tFsjcLgwEp"
      },
      "source": [
        "For this project, I am going to create a recommendation engine for movies for users based on there past behaviour.\n",
        "\n",
        "I will focus on the collaborative filtering approach, that is:\n",
        "\n",
        "- The user is recommended items that people with similar tastes and preferences liked in the past. In another word, this method predicts unknown ratings by using the similarities between users.\n",
        "\n"
      ]
    },
    {
      "cell_type": "markdown",
      "metadata": {
        "id": "sczxoMKUg0rR"
      },
      "source": [
        "1.1: Installing Libraries"
      ]
    },
    {
      "cell_type": "code",
      "metadata": {
        "id": "7p__x5OLgyQL",
        "colab": {
          "base_uri": "https://localhost:8080/"
        },
        "outputId": "8c595b94-9de4-4317-d9d8-f0dd950fe631"
      },
      "source": [
        "print('>> Installing Libraries')\n",
        "\n",
        "!pip3 install pandas matplotlib numpy scikit-surprise\n",
        "\n",
        "print('>> Libraries Installed')"
      ],
      "execution_count": 1,
      "outputs": [
        {
          "output_type": "stream",
          "text": [
            ">> Installing Libraries\n",
            "Requirement already satisfied: pandas in /usr/local/lib/python3.6/dist-packages (1.1.4)\n",
            "Requirement already satisfied: matplotlib in /usr/local/lib/python3.6/dist-packages (3.2.2)\n",
            "Requirement already satisfied: numpy in /usr/local/lib/python3.6/dist-packages (1.18.5)\n",
            "Collecting scikit-surprise\n",
            "\u001b[?25l  Downloading https://files.pythonhosted.org/packages/97/37/5d334adaf5ddd65da99fc65f6507e0e4599d092ba048f4302fe8775619e8/scikit-surprise-1.1.1.tar.gz (11.8MB)\n",
            "\u001b[K     |████████████████████████████████| 11.8MB 5.3MB/s \n",
            "\u001b[?25hRequirement already satisfied: pytz>=2017.2 in /usr/local/lib/python3.6/dist-packages (from pandas) (2018.9)\n",
            "Requirement already satisfied: python-dateutil>=2.7.3 in /usr/local/lib/python3.6/dist-packages (from pandas) (2.8.1)\n",
            "Requirement already satisfied: cycler>=0.10 in /usr/local/lib/python3.6/dist-packages (from matplotlib) (0.10.0)\n",
            "Requirement already satisfied: pyparsing!=2.0.4,!=2.1.2,!=2.1.6,>=2.0.1 in /usr/local/lib/python3.6/dist-packages (from matplotlib) (2.4.7)\n",
            "Requirement already satisfied: kiwisolver>=1.0.1 in /usr/local/lib/python3.6/dist-packages (from matplotlib) (1.3.1)\n",
            "Requirement already satisfied: joblib>=0.11 in /usr/local/lib/python3.6/dist-packages (from scikit-surprise) (0.17.0)\n",
            "Requirement already satisfied: scipy>=1.0.0 in /usr/local/lib/python3.6/dist-packages (from scikit-surprise) (1.4.1)\n",
            "Requirement already satisfied: six>=1.10.0 in /usr/local/lib/python3.6/dist-packages (from scikit-surprise) (1.15.0)\n",
            "Building wheels for collected packages: scikit-surprise\n",
            "  Building wheel for scikit-surprise (setup.py) ... \u001b[?25l\u001b[?25hdone\n",
            "  Created wheel for scikit-surprise: filename=scikit_surprise-1.1.1-cp36-cp36m-linux_x86_64.whl size=1670931 sha256=60ea1f056dd79374f21a7cedfab083fb49f7237299b66acb16a0b17e56aa9c58\n",
            "  Stored in directory: /root/.cache/pip/wheels/78/9c/3d/41b419c9d2aff5b6e2b4c0fc8d25c538202834058f9ed110d0\n",
            "Successfully built scikit-surprise\n",
            "Installing collected packages: scikit-surprise\n",
            "Successfully installed scikit-surprise-1.1.1\n",
            ">> Libraries Installed\n"
          ],
          "name": "stdout"
        }
      ]
    },
    {
      "cell_type": "markdown",
      "metadata": {
        "id": "fFkkv3SRhCL9"
      },
      "source": [
        "1.2: Importing Libraries\n",
        "\n",
        "I will need to import some libraries which include scikit-surprise library used to create the recommendation system\n"
      ]
    },
    {
      "cell_type": "code",
      "metadata": {
        "id": "Fmm-8T4RALMs",
        "colab": {
          "base_uri": "https://localhost:8080/"
        },
        "outputId": "824417c5-f10b-4c86-c64f-070d98aa8970"
      },
      "source": [
        "print('>> Importing Libraries')\n",
        "\n",
        "import pandas as pd\n",
        "\n",
        "from surprise import Reader, Dataset, SVD\n",
        "\n",
        "from surprise.accuracy import rmse, mae\n",
        "from surprise.model_selection import cross_validate\n",
        "\n",
        "print('>> Libraries imported.')"
      ],
      "execution_count": 3,
      "outputs": [
        {
          "output_type": "stream",
          "text": [
            ">> Importing Libraries\n",
            ">> Libraries imported.\n"
          ],
          "name": "stdout"
        }
      ]
    },
    {
      "cell_type": "markdown",
      "metadata": {
        "id": "knmdsg5nhNyu"
      },
      "source": [
        "Task 2: Importing Data\n",
        "\n",
        "Open-source dataset from GroupLens Research (movielens.org)\n",
        "\n",
        "2.1: Importing the Data\n",
        "\n",
        "The dataset is saved in a ratings.csv file\n"
      ]
    },
    {
      "cell_type": "code",
      "metadata": {
        "id": "m2pcB7D7hPMl",
        "colab": {
          "base_uri": "https://localhost:8080/",
          "height": 204
        },
        "outputId": "9ddf16cb-1c2a-412e-97b0-f2c1296d1ff6"
      },
      "source": [
        "# Load the datasets\n",
        "df = pd.read_csv(\"ratings.csv\")\n",
        "df.head()"
      ],
      "execution_count": 5,
      "outputs": [
        {
          "output_type": "execute_result",
          "data": {
            "text/html": [
              "<div>\n",
              "<style scoped>\n",
              "    .dataframe tbody tr th:only-of-type {\n",
              "        vertical-align: middle;\n",
              "    }\n",
              "\n",
              "    .dataframe tbody tr th {\n",
              "        vertical-align: top;\n",
              "    }\n",
              "\n",
              "    .dataframe thead th {\n",
              "        text-align: right;\n",
              "    }\n",
              "</style>\n",
              "<table border=\"1\" class=\"dataframe\">\n",
              "  <thead>\n",
              "    <tr style=\"text-align: right;\">\n",
              "      <th></th>\n",
              "      <th>userId</th>\n",
              "      <th>movieId</th>\n",
              "      <th>rating</th>\n",
              "      <th>timestamp</th>\n",
              "    </tr>\n",
              "  </thead>\n",
              "  <tbody>\n",
              "    <tr>\n",
              "      <th>0</th>\n",
              "      <td>1</td>\n",
              "      <td>1</td>\n",
              "      <td>4.0</td>\n",
              "      <td>964982703</td>\n",
              "    </tr>\n",
              "    <tr>\n",
              "      <th>1</th>\n",
              "      <td>1</td>\n",
              "      <td>3</td>\n",
              "      <td>4.0</td>\n",
              "      <td>964981247</td>\n",
              "    </tr>\n",
              "    <tr>\n",
              "      <th>2</th>\n",
              "      <td>1</td>\n",
              "      <td>6</td>\n",
              "      <td>4.0</td>\n",
              "      <td>964982224</td>\n",
              "    </tr>\n",
              "    <tr>\n",
              "      <th>3</th>\n",
              "      <td>1</td>\n",
              "      <td>47</td>\n",
              "      <td>5.0</td>\n",
              "      <td>964983815</td>\n",
              "    </tr>\n",
              "    <tr>\n",
              "      <th>4</th>\n",
              "      <td>1</td>\n",
              "      <td>50</td>\n",
              "      <td>5.0</td>\n",
              "      <td>964982931</td>\n",
              "    </tr>\n",
              "  </tbody>\n",
              "</table>\n",
              "</div>"
            ],
            "text/plain": [
              "   userId  movieId  rating  timestamp\n",
              "0       1        1     4.0  964982703\n",
              "1       1        3     4.0  964981247\n",
              "2       1        6     4.0  964982224\n",
              "3       1       47     5.0  964983815\n",
              "4       1       50     5.0  964982931"
            ]
          },
          "metadata": {
            "tags": []
          },
          "execution_count": 5
        }
      ]
    },
    {
      "cell_type": "markdown",
      "metadata": {
        "id": "euws-m0chVYo"
      },
      "source": [
        "2.2 Dropping timestamp\n",
        "\n",
        "I don't the timestamp columns form the users.\n"
      ]
    },
    {
      "cell_type": "code",
      "metadata": {
        "id": "fgohhnm-hY96",
        "colab": {
          "base_uri": "https://localhost:8080/",
          "height": 204
        },
        "outputId": "86c97c72-e13d-4c10-9a95-2c9d8853daeb"
      },
      "source": [
        "# Dropping the timestamp column\n",
        "\n",
        "df.drop('timestamp', axis=1, inplace=True)\n",
        "df.head()"
      ],
      "execution_count": 6,
      "outputs": [
        {
          "output_type": "execute_result",
          "data": {
            "text/html": [
              "<div>\n",
              "<style scoped>\n",
              "    .dataframe tbody tr th:only-of-type {\n",
              "        vertical-align: middle;\n",
              "    }\n",
              "\n",
              "    .dataframe tbody tr th {\n",
              "        vertical-align: top;\n",
              "    }\n",
              "\n",
              "    .dataframe thead th {\n",
              "        text-align: right;\n",
              "    }\n",
              "</style>\n",
              "<table border=\"1\" class=\"dataframe\">\n",
              "  <thead>\n",
              "    <tr style=\"text-align: right;\">\n",
              "      <th></th>\n",
              "      <th>userId</th>\n",
              "      <th>movieId</th>\n",
              "      <th>rating</th>\n",
              "    </tr>\n",
              "  </thead>\n",
              "  <tbody>\n",
              "    <tr>\n",
              "      <th>0</th>\n",
              "      <td>1</td>\n",
              "      <td>1</td>\n",
              "      <td>4.0</td>\n",
              "    </tr>\n",
              "    <tr>\n",
              "      <th>1</th>\n",
              "      <td>1</td>\n",
              "      <td>3</td>\n",
              "      <td>4.0</td>\n",
              "    </tr>\n",
              "    <tr>\n",
              "      <th>2</th>\n",
              "      <td>1</td>\n",
              "      <td>6</td>\n",
              "      <td>4.0</td>\n",
              "    </tr>\n",
              "    <tr>\n",
              "      <th>3</th>\n",
              "      <td>1</td>\n",
              "      <td>47</td>\n",
              "      <td>5.0</td>\n",
              "    </tr>\n",
              "    <tr>\n",
              "      <th>4</th>\n",
              "      <td>1</td>\n",
              "      <td>50</td>\n",
              "      <td>5.0</td>\n",
              "    </tr>\n",
              "  </tbody>\n",
              "</table>\n",
              "</div>"
            ],
            "text/plain": [
              "   userId  movieId  rating\n",
              "0       1        1     4.0\n",
              "1       1        3     4.0\n",
              "2       1        6     4.0\n",
              "3       1       47     5.0\n",
              "4       1       50     5.0"
            ]
          },
          "metadata": {
            "tags": []
          },
          "execution_count": 6
        }
      ]
    },
    {
      "cell_type": "markdown",
      "metadata": {
        "id": "c60qbiydhe-f"
      },
      "source": [
        "2.3 Check for Missing Data\n",
        "\n",
        "It's a good practice to check if the data has any missing values. In real world data, this is quite common and must be taken care of before any data pre-processing or model training.\n"
      ]
    },
    {
      "cell_type": "code",
      "metadata": {
        "id": "7tmPQvw5hgRz",
        "colab": {
          "base_uri": "https://localhost:8080/"
        },
        "outputId": "8035cc94-937e-4c7a-a83c-32e8d70f09aa"
      },
      "source": [
        "df.isna().sum()"
      ],
      "execution_count": 7,
      "outputs": [
        {
          "output_type": "execute_result",
          "data": {
            "text/plain": [
              "userId     0\n",
              "movieId    0\n",
              "rating     0\n",
              "dtype: int64"
            ]
          },
          "metadata": {
            "tags": []
          },
          "execution_count": 7
        }
      ]
    },
    {
      "cell_type": "markdown",
      "metadata": {
        "id": "YjxGkMi7hjpP"
      },
      "source": [
        "Task 3: EDA (Exploratory data analysis)\n",
        "\n",
        "In statistics, exploratory data analysis is an approach to analyzing data sets to summarize their main characteristics.\n",
        "- 3.1 Number of movies/users\n"
      ]
    },
    {
      "cell_type": "code",
      "metadata": {
        "id": "2BvbzWXihpuq",
        "colab": {
          "base_uri": "https://localhost:8080/"
        },
        "outputId": "9ab2eaea-cc12-4bea-fe7a-f3cde330b3e1"
      },
      "source": [
        "n_movies = df[\"movieId\"].nunique()\n",
        "n_users = df[\"userId\"].nunique()\n",
        "print(f'Number of Unique movies: {n_movies}')\n",
        "print(f'Number of Unique users: {n_users}')"
      ],
      "execution_count": 8,
      "outputs": [
        {
          "output_type": "stream",
          "text": [
            "Number of Unique movies: 9724\n",
            "Number of Unique users: 610\n"
          ],
          "name": "stdout"
        }
      ]
    },
    {
      "cell_type": "markdown",
      "metadata": {
        "id": "q4v6kmpEhvKc"
      },
      "source": [
        "3.2 Sparsity of our data\n",
        "\n",
        "Sparsity (%) = (No of missing values/ (Total Values))X100\n"
      ]
    },
    {
      "cell_type": "code",
      "metadata": {
        "id": "huYuuY3Eh0G-",
        "colab": {
          "base_uri": "https://localhost:8080/"
        },
        "outputId": "4103b8cc-3eb7-4be4-8810-c3aea915543f"
      },
      "source": [
        "available_ratings = df['rating'].count()\n",
        "total_ratings = n_movies * n_users\n",
        "missing_ratings= total_ratings - available_ratings\n",
        "sparsity = (missing_ratings/total_ratings)*100\n",
        "print(f'Sparsity: {sparsity}')"
      ],
      "execution_count": 9,
      "outputs": [
        {
          "output_type": "stream",
          "text": [
            "Sparsity: 98.30003169443864\n"
          ],
          "name": "stdout"
        }
      ]
    },
    {
      "cell_type": "markdown",
      "metadata": {
        "id": "D-v51DnOh33T"
      },
      "source": [
        "3.3 Ratings Distribution"
      ]
    },
    {
      "cell_type": "code",
      "metadata": {
        "id": "k9OIg9Dyh8xC",
        "colab": {
          "base_uri": "https://localhost:8080/",
          "height": 288
        },
        "outputId": "8198cf68-38fa-44b0-c482-d859f8609139"
      },
      "source": [
        "# Create a plot for the ratings\n",
        "\n",
        "df['rating'].value_counts().plot(kind = 'bar')"
      ],
      "execution_count": 10,
      "outputs": [
        {
          "output_type": "execute_result",
          "data": {
            "text/plain": [
              "<matplotlib.axes._subplots.AxesSubplot at 0x7fde3e29de80>"
            ]
          },
          "metadata": {
            "tags": []
          },
          "execution_count": 10
        },
        {
          "output_type": "display_data",
          "data": {
            "image/png": "[encoded data removed]",
            "text/plain": [
              "<Figure size 432x288 with 1 Axes>"
            ]
          },
          "metadata": {
            "tags": [],
            "needs_background": "light"
          }
        }
      ]
    },
    {
      "cell_type": "markdown",
      "metadata": {
        "id": "Wjx6IKDuiAVD"
      },
      "source": [
        "Task 4: Dimensionality Reduction (reduce the dimensionality of the dataset, I will filter out rarely rated movies and rarely rating users)\n",
        "- 4.1 Filter movies with less than 3 ratings"
      ]
    },
    {
      "cell_type": "code",
      "metadata": {
        "id": "X58SzdIqiJ6q"
      },
      "source": [
        "filter_movies = df['movieId'].value_counts() > 3\n",
        "filter_movies = filter_movies[filter_movies].index.tolist()"
      ],
      "execution_count": 11,
      "outputs": []
    },
    {
      "cell_type": "markdown",
      "metadata": {
        "id": "MQZZM9lIiN43"
      },
      "source": [
        "4.2 Filter users with less than 3 movies rated"
      ]
    },
    {
      "cell_type": "code",
      "metadata": {
        "id": "ZSeOz5-7iQ-Y"
      },
      "source": [
        "filter_users = df['userId'].value_counts() > 3\n",
        "filter_users = filter_users[filter_users].index.tolist()"
      ],
      "execution_count": 12,
      "outputs": []
    },
    {
      "cell_type": "markdown",
      "metadata": {
        "id": "mq2Vmk91iUJq"
      },
      "source": [
        "4.3 Remove rarely rated movies and rarely rating users"
      ]
    },
    {
      "cell_type": "code",
      "metadata": {
        "id": "IWm0QTQuiaU8",
        "colab": {
          "base_uri": "https://localhost:8080/"
        },
        "outputId": "b2ab1c7d-a9ca-44b7-ec12-086e05d081f5"
      },
      "source": [
        "# Checking the original and new shape to reveal the amount of data excluded\n",
        "\n",
        "print(f'Original Shape: {df.shape}')\n",
        "df = df[(df['movieId'].isin(filter_movies)) & (df['userId'].isin(filter_users))]\n",
        "print(f'New Shape: {df.shape}')"
      ],
      "execution_count": 13,
      "outputs": [
        {
          "output_type": "stream",
          "text": [
            "Original Shape: (100836, 3)\n",
            "New Shape: (92394, 3)\n"
          ],
          "name": "stdout"
        }
      ]
    },
    {
      "cell_type": "markdown",
      "metadata": {
        "id": "NGjoBb4VibsD"
      },
      "source": [
        "Task 5: Create Training and Test Sets\n",
        "- 5.1 Columns used for training\n"
      ]
    },
    {
      "cell_type": "code",
      "metadata": {
        "id": "gPVDf_YLifg_"
      },
      "source": [
        "cols = ['userId', 'movieId','rating']"
      ],
      "execution_count": 14,
      "outputs": []
    },
    {
      "cell_type": "markdown",
      "metadata": {
        "id": "PenUakhFijJg"
      },
      "source": [
        "5.2 Create surprise dataset"
      ]
    },
    {
      "cell_type": "code",
      "metadata": {
        "id": "IaeomvhIinin"
      },
      "source": [
        "reader = Reader(rating_scale = (0.5, 5))\n",
        "data = Dataset.load_from_df(df[cols], reader)"
      ],
      "execution_count": 15,
      "outputs": []
    },
    {
      "cell_type": "markdown",
      "metadata": {
        "id": "UJQPlk1tiqqv"
      },
      "source": [
        "5.3 Create Train-set and Prediction-set"
      ]
    },
    {
      "cell_type": "code",
      "metadata": {
        "id": "YfbMODX4iumC"
      },
      "source": [
        "trainset = data.build_full_trainset()\n",
        "antiset = trainset.build_anti_testset()"
      ],
      "execution_count": 16,
      "outputs": []
    },
    {
      "cell_type": "markdown",
      "metadata": {
        "id": "Qw0hMAP-ix1W"
      },
      "source": [
        "Task 6: Creating and training the model\n",
        "- 6.1 Creating the model\n",
        "\n",
        "- SVD (Singular Value Decomposition)\n",
        "- Interaction Matrix = A X B X C\n"
      ]
    },
    {
      "cell_type": "code",
      "metadata": {
        "id": "UNILp0PIi1rb"
      },
      "source": [
        "algo = SVD(n_epochs = 25, verbose=True)"
      ],
      "execution_count": 17,
      "outputs": []
    },
    {
      "cell_type": "markdown",
      "metadata": {
        "id": "ju21NQjZi5Sb"
      },
      "source": [
        "6.2 Training the model\n",
        "\n",
        "- Mean Absolute Error (MAE): MAE measures the average magnitude of the errors in a set of predictions, without considering their direction.\n",
        "\n",
        "- Root mean squared error (RMSE): RMSE is the square root of the average of squared differences between prediction and actual observation.\n"
      ]
    },
    {
      "cell_type": "code",
      "metadata": {
        "id": "HSVHX_dgi9B4",
        "colab": {
          "base_uri": "https://localhost:8080/"
        },
        "outputId": "36ca0346-2f0b-4fdc-8309-96d6051a0a92"
      },
      "source": [
        "cross_validate(algo, data, measures = ['RMSE' , 'MAE'], cv=5, verbose = True)\n",
        "print('>> Training Done')"
      ],
      "execution_count": 18,
      "outputs": [
        {
          "output_type": "stream",
          "text": [
            "Processing epoch 0\n",
            "Processing epoch 1\n",
            "Processing epoch 2\n",
            "Processing epoch 3\n",
            "Processing epoch 4\n",
            "Processing epoch 5\n",
            "Processing epoch 6\n",
            "Processing epoch 7\n",
            "Processing epoch 8\n",
            "Processing epoch 9\n",
            "Processing epoch 10\n",
            "Processing epoch 11\n",
            "Processing epoch 12\n",
            "Processing epoch 13\n",
            "Processing epoch 14\n",
            "Processing epoch 15\n",
            "Processing epoch 16\n",
            "Processing epoch 17\n",
            "Processing epoch 18\n",
            "Processing epoch 19\n",
            "Processing epoch 20\n",
            "Processing epoch 21\n",
            "Processing epoch 22\n",
            "Processing epoch 23\n",
            "Processing epoch 24\n",
            "Processing epoch 0\n",
            "Processing epoch 1\n",
            "Processing epoch 2\n",
            "Processing epoch 3\n",
            "Processing epoch 4\n",
            "Processing epoch 5\n",
            "Processing epoch 6\n",
            "Processing epoch 7\n",
            "Processing epoch 8\n",
            "Processing epoch 9\n",
            "Processing epoch 10\n",
            "Processing epoch 11\n",
            "Processing epoch 12\n",
            "Processing epoch 13\n",
            "Processing epoch 14\n",
            "Processing epoch 15\n",
            "Processing epoch 16\n",
            "Processing epoch 17\n",
            "Processing epoch 18\n",
            "Processing epoch 19\n",
            "Processing epoch 20\n",
            "Processing epoch 21\n",
            "Processing epoch 22\n",
            "Processing epoch 23\n",
            "Processing epoch 24\n",
            "Processing epoch 0\n",
            "Processing epoch 1\n",
            "Processing epoch 2\n",
            "Processing epoch 3\n",
            "Processing epoch 4\n",
            "Processing epoch 5\n",
            "Processing epoch 6\n",
            "Processing epoch 7\n",
            "Processing epoch 8\n",
            "Processing epoch 9\n",
            "Processing epoch 10\n",
            "Processing epoch 11\n",
            "Processing epoch 12\n",
            "Processing epoch 13\n",
            "Processing epoch 14\n",
            "Processing epoch 15\n",
            "Processing epoch 16\n",
            "Processing epoch 17\n",
            "Processing epoch 18\n",
            "Processing epoch 19\n",
            "Processing epoch 20\n",
            "Processing epoch 21\n",
            "Processing epoch 22\n",
            "Processing epoch 23\n",
            "Processing epoch 24\n",
            "Processing epoch 0\n",
            "Processing epoch 1\n",
            "Processing epoch 2\n",
            "Processing epoch 3\n",
            "Processing epoch 4\n",
            "Processing epoch 5\n",
            "Processing epoch 6\n",
            "Processing epoch 7\n",
            "Processing epoch 8\n",
            "Processing epoch 9\n",
            "Processing epoch 10\n",
            "Processing epoch 11\n",
            "Processing epoch 12\n",
            "Processing epoch 13\n",
            "Processing epoch 14\n",
            "Processing epoch 15\n",
            "Processing epoch 16\n",
            "Processing epoch 17\n",
            "Processing epoch 18\n",
            "Processing epoch 19\n",
            "Processing epoch 20\n",
            "Processing epoch 21\n",
            "Processing epoch 22\n",
            "Processing epoch 23\n",
            "Processing epoch 24\n",
            "Processing epoch 0\n",
            "Processing epoch 1\n",
            "Processing epoch 2\n",
            "Processing epoch 3\n",
            "Processing epoch 4\n",
            "Processing epoch 5\n",
            "Processing epoch 6\n",
            "Processing epoch 7\n",
            "Processing epoch 8\n",
            "Processing epoch 9\n",
            "Processing epoch 10\n",
            "Processing epoch 11\n",
            "Processing epoch 12\n",
            "Processing epoch 13\n",
            "Processing epoch 14\n",
            "Processing epoch 15\n",
            "Processing epoch 16\n",
            "Processing epoch 17\n",
            "Processing epoch 18\n",
            "Processing epoch 19\n",
            "Processing epoch 20\n",
            "Processing epoch 21\n",
            "Processing epoch 22\n",
            "Processing epoch 23\n",
            "Processing epoch 24\n",
            "Evaluating RMSE, MAE of algorithm SVD on 5 split(s).\n",
            "\n",
            "                  Fold 1  Fold 2  Fold 3  Fold 4  Fold 5  Mean    Std     \n",
            "RMSE (testset)    0.8497  0.8601  0.8630  0.8642  0.8687  0.8611  0.0063  \n",
            "MAE (testset)     0.6521  0.6617  0.6596  0.6612  0.6649  0.6599  0.0043  \n",
            "Fit time          5.74    5.84    5.99    5.81    5.72    5.82    0.09    \n",
            "Test time         0.27    0.13    0.28    0.14    0.13    0.19    0.07    \n",
            ">> Training Done\n"
          ],
          "name": "stdout"
        }
      ]
    },
    {
      "cell_type": "markdown",
      "metadata": {
        "id": "IhsoB9fYjATP"
      },
      "source": [
        "Task 7: Predictions\n",
        "- 7.1 Predict ratings for all pairs (user, items) that are NOT in the training set."
      ]
    },
    {
      "cell_type": "code",
      "metadata": {
        "id": "ZS98MrFqjH6k"
      },
      "source": [
        "predictions = algo.test(antiset)"
      ],
      "execution_count": 19,
      "outputs": []
    },
    {
      "cell_type": "code",
      "metadata": {
        "id": "1iKFfEjVjMXr",
        "colab": {
          "base_uri": "https://localhost:8080/"
        },
        "outputId": "e849ccef-a1c1-4de5-b512-f15ee9ca09a3"
      },
      "source": [
        "# Checking the first predicition\n",
        "\n",
        "predictions[0]"
      ],
      "execution_count": 20,
      "outputs": [
        {
          "output_type": "execute_result",
          "data": {
            "text/plain": [
              "Prediction(uid=1, iid=318, r_ui=3.529119856267723, est=5, details={'was_impossible': False})"
            ]
          },
          "metadata": {
            "tags": []
          },
          "execution_count": 20
        }
      ]
    },
    {
      "cell_type": "markdown",
      "metadata": {
        "id": "iXjlrpQ4jJIh"
      },
      "source": [
        "7.2 Recommending top three movies movies based on predictions"
      ]
    },
    {
      "cell_type": "code",
      "metadata": {
        "id": "MzqkNrkPjUhN",
        "colab": {
          "base_uri": "https://localhost:8080/"
        },
        "outputId": "5a1447b3-d0c0-41d7-9d01-535a0eaba03b"
      },
      "source": [
        "from collections import defaultdict\n",
        "def get_top_n(predictions, n):\n",
        "  top_n = defaultdict(list)\n",
        "  for uid, iid, _, est, _ in predictions:\n",
        "    top_n[uid].append((iid, est))\n",
        "        \n",
        "  for uid, user_ratings in top_n.items():\n",
        "    user_ratings.sort(key = lambda x: x[1], reverse = True)\n",
        "    top_n[uid] = user_ratings[:n]\n",
        "  return top_n\n",
        "  pass\n",
        "top_n = get_top_n(predictions, n=3)\n",
        "for uid, user_ratings in top_n.items():\n",
        "  print(uid, [iid for (iid, rating) in user_ratings])"
      ],
      "execution_count": 21,
      "outputs": [
        {
          "output_type": "stream",
          "text": [
            "1 [318, 1704, 720]\n",
            "2 [1197, 1223, 899]\n",
            "3 [2571, 5618, 4226]\n",
            "4 [1204, 913, 858]\n",
            "5 [898, 246, 1104]\n",
            "6 [2571, 1210, 1198]\n",
            "7 [2959, 1198, 1258]\n",
            "8 [1213, 3037, 1204]\n",
            "9 [296, 1206, 2571]\n",
            "10 [1197, 78499, 908]\n",
            "11 [1193, 904, 1204]\n",
            "12 [50, 260, 457]\n",
            "13 [5618, 111, 2959]\n",
            "14 [898, 1197, 3451]\n",
            "15 [1262, 608, 924]\n",
            "16 [1104, 142488, 6377]\n",
            "17 [898, 177593, 926]\n",
            "18 [1233, 898, 92259]\n",
            "19 [1221, 778, 318]\n",
            "20 [110, 1197, 2571]\n",
            "21 [111, 2324, 2329]\n",
            "22 [1265, 1089, 480]\n",
            "23 [30707, 3037, 6016]\n",
            "24 [1196, 260, 1204]\n",
            "25 [318, 48516, 720]\n",
            "26 [318, 858, 1235]\n",
            "27 [318, 2160, 1704]\n",
            "28 [246, 908, 6377]\n",
            "29 [898, 3275, 5618]\n",
            "30 [1089, 1197, 1208]\n",
            "31 [1288, 2858, 858]\n",
            "32 [3275, 908, 778]\n",
            "33 [260, 2858, 58559]\n",
            "34 [4993, 1198, 541]\n",
            "35 [1193, 2324, 1276]\n",
            "36 [58559, 4993, 1197]\n",
            "37 [1258, 4973, 2959]\n",
            "38 [1210, 1196, 608]\n",
            "39 [2324, 2959, 4993]\n",
            "40 [2019, 2959, 912]\n",
            "41 [923, 1617, 27773]\n",
            "42 [1198, 79132, 111]\n",
            "43 [50, 223, 333]\n",
            "44 [356, 898, 4973]\n",
            "45 [3037, 1234, 7090]\n",
            "46 [2571, 56782, 1193]\n",
            "47 [1172, 1193, 2078]\n",
            "48 [1148, 58559, 1197]\n",
            "49 [296, 912, 260]\n",
            "50 [50, 908, 56782]\n",
            "51 [1220, 2858, 2959]\n",
            "52 [1089, 1208, 1222]\n",
            "53 [1, 6, 47]\n",
            "54 [2959, 1199, 898]\n",
            "55 [527, 296, 858]\n",
            "56 [1208, 898, 750]\n",
            "57 [1104, 58559, 1213]\n",
            "58 [1242, 3275, 1204]\n",
            "59 [720, 2019, 27611]\n",
            "60 [912, 1225, 1213]\n",
            "61 [2959, 1225, 177593]\n",
            "62 [750, 904, 142488]\n",
            "63 [541, 5690, 910]\n",
            "64 [904, 912, 1104]\n",
            "65 [750, 1223, 1206]\n",
            "66 [527, 1204, 1199]\n",
            "67 [1276, 1242, 6711]\n",
            "68 [105504, 2160, 1172]\n",
            "69 [112552, 912, 1225]\n",
            "70 [56782, 922, 898]\n",
            "71 [2571, 3972, 1199]\n",
            "72 [5690, 898, 1223]\n",
            "73 [1204, 1258, 3972]\n",
            "74 [904, 912, 1262]\n",
            "75 [318, 1303, 1276]\n",
            "76 [4993, 246, 1249]\n",
            "77 [1262, 914, 2268]\n",
            "78 [2959, 1210, 1244]\n",
            "79 [296, 608, 1193]\n",
            "80 [1276, 356, 908]\n",
            "81 [5618, 58559, 3972]\n",
            "82 [318, 1104, 2542]\n",
            "83 [904, 3451, 1203]\n",
            "84 [1089, 1262, 1233]\n",
            "85 [318, 858, 296]\n",
            "86 [3083, 908, 1148]\n",
            "87 [2959, 318, 1196]\n",
            "88 [2959, 1199, 898]\n",
            "89 [1104, 44195, 1252]\n",
            "90 [5952, 898, 1387]\n",
            "91 [7361, 88129, 56782]\n",
            "92 [318, 898, 58559]\n",
            "93 [1089, 1136, 1198]\n",
            "94 [2571, 1288, 1219]\n",
            "95 [318, 2959, 50]\n",
            "96 [356, 2160, 1213]\n",
            "97 [50, 1198, 318]\n",
            "98 [3037, 898, 58559]\n",
            "99 [4226, 3275, 720]\n",
            "100 [318, 3037, 1262]\n",
            "101 [1411, 296, 898]\n",
            "102 [527, 908, 6711]\n",
            "103 [904, 1223, 914]\n",
            "104 [912, 2324, 1172]\n",
            "105 [246, 3347, 1276]\n",
            "106 [898, 866, 106642]\n",
            "107 [4995, 2019, 898]\n",
            "108 [3275, 1172, 912]\n",
            "109 [2959, 1198, 1242]\n",
            "110 [318, 1196, 858]\n",
            "111 [1242, 858, 1215]\n",
            "112 [318, 912, 1136]\n",
            "113 [1197, 4226, 1148]\n",
            "114 [1233, 1198, 4993]\n",
            "115 [898, 1276, 79702]\n",
            "116 [6016, 1272, 930]\n",
            "117 [1276, 750, 1204]\n",
            "118 [318, 904, 1204]\n",
            "119 [912, 1213, 2019]\n",
            "120 [7153, 1136, 318]\n",
            "121 [1704, 898, 2329]\n",
            "122 [1198, 2028, 2858]\n",
            "123 [898, 3949, 3275]\n",
            "124 [1213, 904, 4973]\n",
            "125 [260, 5690, 7153]\n",
            "126 [904, 1197, 922]\n",
            "127 [1258, 1288, 296]\n",
            "128 [922, 318, 56782]\n",
            "129 [898, 318, 3083]\n",
            "130 [3451, 1172, 1197]\n",
            "131 [246, 306, 142488]\n",
            "132 [246, 3451, 92259]\n",
            "133 [1204, 1250, 1272]\n",
            "134 [2019, 55118, 904]\n",
            "135 [904, 1276, 7153]\n",
            "136 [1193, 2571, 51255]\n",
            "137 [898, 5618, 5690]\n",
            "138 [1198, 1208, 750]\n",
            "139 [1213, 2571, 4226]\n",
            "140 [908, 904, 1103]\n",
            "141 [2324, 1206, 1276]\n",
            "142 [2019, 1104, 1250]\n",
            "143 [56782, 1235, 2959]\n",
            "144 [898, 58559, 318]\n",
            "145 [246, 750, 1242]\n",
            "146 [2324, 720, 7361]\n",
            "147 [4973, 1204, 541]\n",
            "148 [527, 56782, 2959]\n",
            "149 [904, 3275, 913]\n",
            "150 [318, 908, 296]\n",
            "151 [1276, 56782, 306]\n",
            "152 [2019, 1104, 898]\n",
            "153 [912, 1228, 37830]\n",
            "154 [527, 318, 898]\n",
            "155 [57669, 142488, 1276]\n",
            "156 [1223, 4967, 5952]\n",
            "157 [260, 7153, 1208]\n",
            "158 [898, 1208, 306]\n",
            "159 [246, 58559, 2289]\n",
            "160 [1912, 109487, 8874]\n",
            "161 [898, 3949, 1221]\n",
            "162 [2571, 1673, 110]\n",
            "163 [1198, 246, 1204]\n",
            "164 [2571, 898, 318]\n",
            "165 [4993, 2858, 4226]\n",
            "166 [898, 1204, 1233]\n",
            "167 [1104, 904, 1704]\n",
            "168 [318, 904, 2959]\n",
            "169 [2324, 1276, 3972]\n",
            "170 [899, 904, 2571]\n",
            "171 [1213, 1222, 2028]\n",
            "172 [2571, 1198, 246]\n",
            "173 [318, 2959, 56782]\n",
            "174 [899, 260, 44195]\n",
            "175 [296, 50, 866]\n",
            "176 [750, 1193, 58559]\n",
            "177 [1172, 3083, 56782]\n",
            "178 [750, 904, 2324]\n",
            "179 [1210, 1223, 1193]\n",
            "180 [318, 1193, 904]\n",
            "181 [4995, 364, 899]\n",
            "182 [1035, 8874, 1223]\n",
            "183 [922, 2324, 2959]\n",
            "184 [1193, 2019, 56782]\n",
            "185 [898, 2959, 3275]\n",
            "186 [318, 50, 1252]\n",
            "187 [58559, 858, 1250]\n",
            "188 [318, 48516, 858]\n",
            "189 [2324, 898, 3508]\n",
            "190 [1172, 3083, 56782]\n",
            "191 [1193, 5618, 1262]\n",
            "192 [1235, 1704, 3972]\n",
            "193 [1199, 2329, 50]\n",
            "194 [1204, 1104, 4967]\n",
            "195 [1214, 541, 6787]\n",
            "196 [318, 904, 1276]\n",
            "197 [246, 2019, 1196]\n",
            "198 [1204, 5225, 1219]\n",
            "199 [1219, 1199, 3468]\n",
            "200 [105504, 3275, 246]\n",
            "201 [2571, 1193, 1208]\n",
            "202 [527, 3037, 720]\n",
            "203 [527, 750, 898]\n",
            "204 [60069, 318, 1244]\n",
            "205 [1204, 1197, 2324]\n",
            "206 [904, 1262, 1196]\n",
            "207 [1208, 296, 858]\n",
            "208 [2360, 3972, 2959]\n",
            "209 [1193, 750, 5618]\n",
            "210 [3275, 6377, 1225]\n",
            "211 [593, 56782, 4995]\n",
            "212 [1104, 1204, 246]\n",
            "213 [318, 2959, 2571]\n",
            "214 [296, 56782, 1197]\n",
            "215 [441, 1212, 3275]\n",
            "216 [58559, 914, 2329]\n",
            "217 [3972, 541, 1303]\n",
            "218 [56782, 2019, 1193]\n",
            "219 [1732, 720, 1206]\n",
            "220 [3836, 1136, 1276]\n",
            "221 [1237, 1242, 7153]\n",
            "222 [1197, 1291, 1223]\n",
            "223 [720, 50, 142488]\n",
            "224 [2324, 1246, 1104]\n",
            "225 [1204, 56782, 720]\n",
            "226 [593, 58559, 293]\n",
            "227 [5618, 922, 3972]\n",
            "228 [58559, 56782, 306]\n",
            "229 [58559, 1213, 898]\n",
            "230 [1041, 2289, 1104]\n",
            "231 [1276, 142488, 3083]\n",
            "232 [1276, 1204, 954]\n",
            "233 [5618, 1261, 4226]\n",
            "234 [1035, 527, 110]\n",
            "235 [1204, 4973, 912]\n",
            "236 [1203, 2160, 1104]\n",
            "237 [750, 1221, 5618]\n",
            "238 [2571, 2959, 318]\n",
            "239 [1233, 4226, 111]\n",
            "240 [2571, 898, 3916]\n",
            "241 [1204, 1387, 1242]\n",
            "242 [3037, 1198, 608]\n",
            "243 [50, 593, 1197]\n",
            "244 [1387, 527, 903]\n",
            "245 [904, 1136, 1358]\n",
            "246 [1197, 1213, 1198]\n",
            "247 [56782, 1245, 1233]\n",
            "248 [4011, 318, 2959]\n",
            "249 [1136, 898, 1204]\n",
            "250 [2571, 5952, 1223]\n",
            "251 [3147, 904, 910]\n",
            "252 [318, 904, 4973]\n",
            "253 [318, 898, 527]\n",
            "254 [1198, 898, 177593]\n",
            "255 [5690, 1198, 2194]\n",
            "256 [2019, 4011, 903]\n",
            "257 [2019, 47, 4226]\n",
            "258 [3037, 1276, 260]\n",
            "259 [2329, 246, 1104]\n",
            "260 [1197, 246, 1204]\n",
            "261 [2324, 1208, 177593]\n",
            "262 [541, 2571, 1213]\n",
            "263 [904, 1204, 1235]\n",
            "264 [3083, 56782, 904]\n",
            "265 [1210, 1704, 2329]\n",
            "266 [2858, 7153, 858]\n",
            "267 [296, 47, 50]\n",
            "268 [4993, 904, 5690]\n",
            "269 [177593, 2959, 912]\n",
            "270 [858, 318, 1221]\n",
            "271 [50, 2571, 318]\n",
            "272 [858, 1104, 296]\n",
            "273 [3037, 50, 4973]\n",
            "274 [2924, 106642, 246]\n",
            "275 [106642, 1214, 2202]\n",
            "276 [50, 296, 441]\n",
            "277 [750, 1250, 2194]\n",
            "278 [912, 79132, 866]\n",
            "279 [1262, 177593, 1276]\n",
            "280 [306, 922, 527]\n",
            "281 [2571, 318, 904]\n",
            "282 [904, 898, 110]\n",
            "283 [1198, 904, 912]\n",
            "284 [1197, 910, 1148]\n",
            "285 [2571, 5952, 2019]\n",
            "286 [5618, 1204, 1266]\n",
            "287 [1201, 904, 1041]\n",
            "288 [2858, 1221, 1233]\n",
            "289 [356, 1223, 2571]\n",
            "290 [3147, 3275, 1035]\n",
            "291 [898, 1673, 2324]\n",
            "292 [6711, 3213, 81834]\n",
            "293 [4226, 1104, 914]\n",
            "294 [318, 1223, 527]\n",
            "295 [2858, 4993, 1208]\n",
            "296 [58559, 4226, 898]\n",
            "297 [296, 1208, 318]\n",
            "298 [4499, 27611, 246]\n",
            "299 [898, 58559, 1104]\n",
            "300 [1276, 48516, 2186]\n",
            "301 [1223, 2959, 260]\n",
            "302 [2959, 4993, 50]\n",
            "303 [1198, 318, 1089]\n",
            "304 [1172, 2324, 3916]\n",
            "305 [912, 1080, 7361]\n",
            "306 [7153, 750, 898]\n",
            "307 [903, 1041, 334]\n",
            "308 [6333, 3275, 6365]\n",
            "309 [1196, 916, 260]\n",
            "310 [296, 4973, 50]\n",
            "311 [750, 541, 898]\n",
            "312 [1193, 1237, 1221]\n",
            "313 [930, 36, 6787]\n",
            "314 [3147, 2571, 778]\n",
            "315 [2324, 720, 4226]\n",
            "316 [296, 904, 1148]\n",
            "317 [898, 1276, 1230]\n",
            "318 [50, 2959, 720]\n",
            "319 [296, 50, 142488]\n",
            "320 [58559, 3275, 899]\n",
            "321 [4226, 1197, 1276]\n",
            "322 [1266, 1210, 1242]\n",
            "323 [1041, 1223, 1148]\n",
            "324 [1208, 2959, 2858]\n",
            "325 [2959, 1221, 1204]\n",
            "326 [1104, 898, 306]\n",
            "327 [1198, 1197, 2324]\n",
            "328 [1884, 3037, 1223]\n",
            "329 [1235, 54001, 1197]\n",
            "330 [720, 1223, 1242]\n",
            "331 [260, 912, 527]\n",
            "332 [260, 1250, 1193]\n",
            "333 [904, 1213, 2959]\n",
            "334 [1233, 1197, 1276]\n",
            "335 [2324, 441, 7361]\n",
            "336 [1225, 778, 2019]\n",
            "337 [1197, 1198, 1258]\n",
            "338 [58559, 2580, 260]\n",
            "339 [1204, 1276, 923]\n",
            "340 [2959, 3972, 1204]\n",
            "341 [50, 260, 2959]\n",
            "342 [1197, 3037, 260]\n",
            "343 [1276, 177593, 1204]\n",
            "344 [1196, 1198, 1291]\n",
            "345 [904, 56782, 318]\n",
            "346 [898, 3972, 2019]\n",
            "347 [318, 3972, 898]\n",
            "348 [1197, 1198, 1210]\n",
            "349 [541, 898, 5690]\n",
            "350 [2571, 908, 56782]\n",
            "351 [318, 904, 899]\n",
            "352 [56782, 3037, 1204]\n",
            "353 [260, 1258, 908]\n",
            "354 [1193, 898, 4226]\n",
            "355 [318, 904, 50]\n",
            "356 [5690, 1172, 898]\n",
            "357 [56782, 3328, 112552]\n",
            "358 [898, 356, 912]\n",
            "359 [899, 56782, 1104]\n",
            "360 [4226, 318, 1193]\n",
            "361 [1233, 1104, 4034]\n",
            "362 [4973, 1136, 1276]\n",
            "363 [56782, 5618, 3275]\n",
            "364 [110, 898, 1199]\n",
            "365 [919, 527, 457]\n",
            "366 [260, 898, 2324]\n",
            "367 [1197, 1104, 1284]\n",
            "368 [7153, 318, 5952]\n",
            "369 [50, 898, 1193]\n",
            "370 [912, 904, 177593]\n",
            "371 [47, 50, 296]\n",
            "372 [3037, 1276, 7451]\n",
            "373 [2959, 2571, 4973]\n",
            "374 [593, 2571, 2959]\n",
            "375 [296, 4993, 1233]\n",
            "376 [30707, 922, 4034]\n",
            "377 [110, 930, 6016]\n",
            "378 [904, 50, 1197]\n",
            "379 [898, 1193, 2019]\n",
            "380 [48516, 3897, 7361]\n",
            "381 [898, 306, 1266]\n",
            "382 [898, 1223, 5618]\n",
            "383 [3037, 904, 1276]\n",
            "384 [898, 3949, 1235]\n",
            "385 [2329, 3836, 3275]\n",
            "386 [1148, 3275, 951]\n",
            "387 [4967, 246, 92259]\n",
            "388 [541, 2571, 1210]\n",
            "389 [1210, 318, 4995]\n",
            "390 [720, 4993, 260]\n",
            "391 [1237, 92259, 1387]\n",
            "392 [858, 1089, 2571]\n",
            "393 [1945, 60766, 3435]\n",
            "394 [2571, 5952, 1198]\n",
            "395 [2959, 7371, 3435]\n",
            "396 [608, 1199, 3275]\n",
            "397 [318, 2959, 1242]\n",
            "398 [2959, 50, 527]\n",
            "399 [48516, 318, 858]\n",
            "400 [898, 1199, 142488]\n",
            "401 [1199, 296, 5618]\n",
            "402 [3836, 318, 3147]\n",
            "403 [2959, 2571, 1222]\n",
            "404 [1411, 1884, 1242]\n",
            "405 [1193, 318, 246]\n",
            "406 [898, 1196, 914]\n",
            "407 [3972, 904, 2858]\n",
            "408 [1204, 541, 1223]\n",
            "409 [904, 1237, 1104]\n",
            "410 [1233, 1104, 4993]\n",
            "411 [1198, 3435, 4226]\n",
            "412 [246, 1262, 177593]\n",
            "413 [919, 1089, 898]\n",
            "414 [1203, 3030, 92259]\n",
            "415 [1262, 56782, 527]\n",
            "416 [1104, 923, 1193]\n",
            "417 [1235, 7361, 930]\n",
            "418 [4973, 1041, 1233]\n",
            "419 [5690, 2791, 306]\n",
            "420 [110, 1276, 898]\n",
            "421 [898, 858, 110]\n",
            "422 [1198, 1196, 1270]\n",
            "423 [2571, 50, 1198]\n",
            "424 [1276, 1204, 1222]\n",
            "425 [1104, 1276, 58559]\n",
            "426 [1172, 2324, 56782]\n",
            "427 [541, 1221, 1258]\n",
            "428 [1732, 5618, 933]\n",
            "429 [899, 4226, 2959]\n",
            "430 [4973, 904, 898]\n",
            "431 [1208, 58559, 608]\n",
            "432 [1272, 914, 1411]\n",
            "433 [142488, 898, 904]\n",
            "434 [50, 34405, 1221]\n",
            "435 [177593, 898, 1198]\n",
            "436 [1250, 56782, 858]\n",
            "437 [541, 904, 1196]\n",
            "438 [1136, 1198, 2997]\n",
            "439 [2959, 908, 1193]\n",
            "440 [904, 318, 858]\n",
            "441 [2329, 2019, 1193]\n",
            "442 [912, 318, 899]\n",
            "443 [1242, 527, 1262]\n",
            "444 [908, 3037, 898]\n",
            "445 [2019, 858, 1276]\n",
            "446 [912, 56782, 3037]\n",
            "447 [858, 1210, 1198]\n",
            "448 [4973, 31658, 1247]\n",
            "449 [904, 720, 1148]\n",
            "450 [1225, 2329, 29]\n",
            "451 [527, 318, 858]\n",
            "452 [50, 296, 593]\n",
            "453 [1198, 1276, 3435]\n",
            "454 [318, 56782, 1221]\n",
            "455 [1203, 1104, 2804]\n",
            "456 [1223, 318, 858]\n",
            "457 [318, 527, 1210]\n",
            "458 [260, 1089, 1210]\n",
            "459 [527, 318, 5690]\n",
            "460 [858, 898, 3275]\n",
            "461 [1204, 898, 1104]\n",
            "462 [1250, 898, 8874]\n",
            "463 [898, 1196, 750]\n",
            "464 [1197, 1203, 1136]\n",
            "465 [5618, 898, 2959]\n",
            "466 [1104, 527, 1225]\n",
            "467 [1222, 750, 930]\n",
            "468 [2571, 4973, 2959]\n",
            "469 [51255, 3996, 1148]\n",
            "470 [56782, 441, 898]\n",
            "471 [5618, 1225, 7361]\n",
            "472 [1245, 246, 1262]\n",
            "473 [2571, 58559, 1196]\n",
            "474 [60069, 3275, 1261]\n",
            "475 [50, 1197, 2329]\n",
            "476 [953, 1193, 260]\n",
            "477 [2959, 27773, 1235]\n",
            "478 [1210, 5618, 898]\n",
            "479 [1240, 3275, 1208]\n",
            "480 [912, 898, 5618]\n",
            "481 [2571, 318, 475]\n",
            "482 [1266, 1172, 7451]\n",
            "483 [898, 1242, 3949]\n",
            "484 [1197, 4226, 1196]\n",
            "485 [318, 1198, 6377]\n",
            "486 [71899, 441, 2324]\n",
            "487 [1148, 6016, 7371]\n",
            "488 [260, 858, 1276]\n",
            "489 [1247, 3083, 441]\n",
            "490 [1223, 858, 110]\n",
            "491 [1222, 2324, 1233]\n",
            "492 [898, 3037, 1204]\n",
            "493 [318, 50, 1223]\n",
            "494 [1089, 318, 750]\n",
            "495 [898, 899, 912]\n",
            "496 [260, 296, 1719]\n",
            "497 [3147, 1104, 1172]\n",
            "498 [71899, 1276, 1210]\n",
            "499 [1193, 2324, 898]\n",
            "500 [318, 1196, 1136]\n",
            "501 [908, 112552, 3275]\n",
            "502 [2571, 58559, 50]\n",
            "503 [953, 260, 1148]\n",
            "504 [318, 1223, 2324]\n",
            "505 [58559, 2329, 4993]\n",
            "506 [1208, 1204, 50]\n",
            "507 [541, 1204, 1193]\n",
            "508 [318, 1172, 1213]\n",
            "509 [1210, 3508, 858]\n",
            "510 [904, 318, 1197]\n",
            "511 [750, 1242, 1193]\n",
            "512 [306, 51255, 4226]\n",
            "513 [1089, 720, 1104]\n",
            "514 [1223, 1203, 56782]\n",
            "515 [1089, 1208, 1213]\n",
            "516 [1204, 296, 3275]\n",
            "517 [1172, 3083, 778]\n",
            "518 [1204, 4967, 1193]\n",
            "519 [1204, 50, 2324]\n",
            "520 [898, 2959, 3972]\n",
            "521 [1204, 246, 2329]\n",
            "522 [593, 908, 3435]\n",
            "523 [457, 1197, 1210]\n",
            "524 [750, 898, 1213]\n",
            "525 [1387, 904, 1223]\n",
            "526 [356, 6016, 50]\n",
            "527 [1394, 106100, 4226]\n",
            "528 [858, 5952, 7361]\n",
            "529 [1199, 1213, 318]\n",
            "530 [260, 1208, 2571]\n",
            "531 [1197, 2858, 44195]\n",
            "532 [6016, 1276, 908]\n",
            "533 [246, 48516, 908]\n",
            "534 [1262, 318, 3972]\n",
            "535 [318, 260, 34405]\n",
            "536 [5952, 898, 1204]\n",
            "537 [1197, 1198, 441]\n",
            "538 [1276, 4878, 111]\n",
            "539 [922, 930, 1276]\n",
            "540 [1223, 318, 858]\n",
            "541 [56782, 951, 898]\n",
            "542 [778, 904, 1276]\n",
            "543 [50, 1214, 2542]\n",
            "544 [47, 50, 110]\n",
            "545 [246, 1276, 1204]\n",
            "546 [142488, 908, 4993]\n",
            "547 [2959, 7153, 1193]\n",
            "548 [2959, 4226, 318]\n",
            "549 [1249, 2019, 1276]\n",
            "550 [2858, 908, 912]\n",
            "551 [3037, 1172, 1673]\n",
            "552 [260, 2858, 912]\n",
            "553 [318, 1223, 4226]\n",
            "554 [3578, 50, 1246]\n",
            "555 [924, 58998, 34405]\n",
            "556 [1193, 50, 318]\n",
            "557 [1235, 50, 1219]\n",
            "558 [58559, 898, 2019]\n",
            "559 [2959, 1214, 1200]\n",
            "560 [3972, 1953, 1262]\n",
            "561 [56782, 858, 5060]\n",
            "562 [246, 177593, 741]\n",
            "563 [318, 3275, 296]\n",
            "564 [608, 7153, 4993]\n",
            "565 [5618, 1252, 3037]\n",
            "566 [1276, 1204, 3037]\n",
            "567 [1204, 904, 898]\n",
            "568 [318, 1197, 1213]\n",
            "569 [2959, 260, 1225]\n",
            "570 [904, 58559, 1242]\n",
            "571 [296, 246, 1204]\n",
            "572 [5618, 1673, 1203]\n",
            "573 [913, 3275, 60487]\n",
            "574 [541, 1198, 1242]\n",
            "575 [58559, 177593, 2019]\n",
            "576 [1250, 1225, 318]\n",
            "577 [1193, 2324, 1276]\n",
            "578 [318, 58559, 720]\n",
            "579 [1198, 1242, 3972]\n",
            "580 [246, 74458, 96821]\n",
            "581 [898, 5618, 914]\n",
            "582 [318, 3972, 2324]\n",
            "583 [306, 111, 1276]\n",
            "584 [1136, 1193, 3275]\n",
            "585 [898, 930, 1223]\n",
            "586 [904, 2019, 4226]\n",
            "587 [1219, 1945, 1225]\n",
            "588 [293, 58559, 899]\n",
            "589 [2571, 2858, 364]\n",
            "590 [293, 106642, 1261]\n",
            "591 [50, 922, 2324]\n",
            "592 [922, 899, 3147]\n",
            "593 [1089, 296, 1387]\n",
            "594 [733, 1219, 2858]\n",
            "595 [2959, 3037, 177593]\n",
            "596 [912, 1201, 898]\n",
            "597 [296, 1213, 2571]\n",
            "598 [904, 720, 1242]\n",
            "599 [57669, 903, 1193]\n",
            "600 [4011, 1223, 47099]\n",
            "601 [593, 56782, 1225]\n",
            "602 [2959, 1221, 7153]\n",
            "603 [50, 1250, 750]\n",
            "604 [1252, 2858, 5618]\n",
            "605 [2571, 58559, 1276]\n",
            "606 [1148, 3275, 3949]\n",
            "607 [3949, 3972, 2324]\n",
            "608 [1198, 101, 7387]\n",
            "609 [527, 750, 3972]\n",
            "610 [1223, 916, 1673]\n"
          ],
          "name": "stdout"
        }
      ]
    },
    {
      "cell_type": "code",
      "metadata": {
        "id": "fKQ_wleZkmr4"
      },
      "source": [
        ""
      ],
      "execution_count": null,
      "outputs": []
    }
  ]
}